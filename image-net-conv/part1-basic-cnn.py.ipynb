{
 "cells": [
  {
   "cell_type": "markdown",
   "id": "e0c6e11c",
   "metadata": {
    "ExecuteTime": {
     "end_time": "2023-05-19T23:25:01.576672Z",
     "start_time": "2023-05-19T23:24:52.768358Z"
    }
   },
   "source": [
    "What is **Torch Vision**? \n",
    "\n",
    "`torchvision` is a library in PyTorch that has `datasets loaders`, `model architectures`, and `image transformation` tools specifically designed for computer vision. Here are its key capabilities:\n",
    "\n",
    "1. **Datasets**: It provides easy-to-use APIs for a variety of vision datasets like ImageNet, CIFAR10, MNIST, etc. These can be used directly for model training and validation.\n",
    "\n",
    "2. **Models**: torchvision offers pre-trained models for tasks like image classification, object detection, segmentation, etc. It includes models like ResNet, AlexNet, VGG, and Faster-RCNN.\n",
    "\n",
    "3. **Transforms**: The library provides common image transformations like cropping, rotating, and flipping for data augmentation. It also includes transformations for tensor conversion and normalization.\n",
    "\n",
    "4. **Utilities**: torchvision includes functions for drawing bounding boxes and masks onto images which can be helpful when working with object detection and segmentation tasks.\n",
    "\n",
    "5. **IO operations**: From version 0.9.0 onward, torchvision includes functionalities to read video files and webcam stream into tensors, and also read and write image files.\n",
    "\n",
    "\n",
    "https://uvadlc-notebooks.readthedocs.io/en/latest/tutorial_notebooks/guide3/Debugging_PyTorch.html"
   ]
  },
  {
   "cell_type": "markdown",
   "id": "e7813636",
   "metadata": {},
   "source": [
    "## Setup\n",
    "* Setting up Cuda, Tensorboad and SSL"
   ]
  },
  {
   "cell_type": "code",
   "execution_count": 7,
   "id": "83c18032",
   "metadata": {
    "ExecuteTime": {
     "end_time": "2023-05-22T01:00:35.217568Z",
     "start_time": "2023-05-22T01:00:35.214938Z"
    }
   },
   "outputs": [],
   "source": [
    "import os\n",
    "import ssl\n",
    "ssl._create_default_https_context = ssl._create_unverified_context"
   ]
  },
  {
   "cell_type": "code",
   "execution_count": 8,
   "id": "70b9743f",
   "metadata": {
    "ExecuteTime": {
     "end_time": "2023-05-22T01:00:48.761899Z",
     "start_time": "2023-05-22T01:00:35.764725Z"
    }
   },
   "outputs": [
    {
     "name": "stderr",
     "output_type": "stream",
     "text": [
      "2023-05-21 18:00:44.404044: I tensorflow/core/platform/cpu_feature_guard.cc:182] This TensorFlow binary is optimized to use available CPU instructions in performance-critical operations.\n",
      "To enable the following instructions: AVX2 FMA, in other operations, rebuild TensorFlow with the appropriate compiler flags.\n"
     ]
    }
   ],
   "source": [
    "import torch\n",
    "from torch.utils.tensorboard import SummaryWriter\n",
    "device = torch.device(\"cuda\" if torch.cuda.is_available() else \"cpu\") \n",
    "writer = SummaryWriter('runs/experiment_1')\n",
    "log_dir = f\"{os.getcwd()}/runs\""
   ]
  },
  {
   "cell_type": "code",
   "execution_count": null,
   "id": "ed1a560a",
   "metadata": {
    "ExecuteTime": {
     "start_time": "2023-05-22T01:00:36.700Z"
    }
   },
   "outputs": [
    {
     "name": "stdout",
     "output_type": "stream",
     "text": [
      "TensorBoard has started\n"
     ]
    },
    {
     "name": "stderr",
     "output_type": "stream",
     "text": [
      "\n",
      "NOTE: Using experimental fast data loading logic. To disable, pass\n",
      "    \"--load_fast=false\" and report issues on GitHub. More details:\n",
      "    https://github.com/tensorflow/tensorboard/issues/4784\n",
      "\n",
      "Serving TensorBoard on localhost; to expose to the network, use a proxy or pass --bind_all\n",
      "TensorBoard 2.12.3 at http://localhost:6006/ (Press CTRL+C to quit)\n"
     ]
    }
   ],
   "source": [
    "%%bash\n",
    "if lsof -Pi :6006 -sTCP:LISTEN -t >/dev/null ; then\n",
    "    echo \"TensorBoard is already running\"\n",
    "else\n",
    "    tensorboard --logdir=runs --port=6006 &\n",
    "    echo \"TensorBoard has started\"\n",
    "fi\n"
   ]
  },
  {
   "cell_type": "markdown",
   "id": "611a13c8",
   "metadata": {},
   "source": [
    "## Data Prep\n",
    "### Load CIFAR-100"
   ]
  },
  {
   "cell_type": "markdown",
   "id": "76ceedab",
   "metadata": {},
   "source": [
    "Pytorch's [`DataLoader`](https://pytorch.org/docs/stable/data.html#torch.utils.data.DataLoader) API combines a `torchvision.datasets` and a `sampler`, and **provides an iterable** over the given dataset.\n",
    "\n",
    "A valid counter part of this in the `tensorflow` world would be the https://www.tensorflow.org/api_docs/python/tf/data/Dataset  API that provides iterators, maps, sharding, loading and much much more"
   ]
  },
  {
   "cell_type": "code",
   "execution_count": 13,
   "id": "89863969",
   "metadata": {
    "ExecuteTime": {
     "end_time": "2023-05-22T01:05:59.934312Z",
     "start_time": "2023-05-22T01:05:59.222752Z"
    }
   },
   "outputs": [
    {
     "name": "stdout",
     "output_type": "stream",
     "text": [
      "Files already downloaded and verified\n"
     ]
    }
   ],
   "source": [
    "# Import necessary libraries\n",
    "import torch\n",
    "import torchvision\n",
    "import torch.nn as nn\n",
    "import torch.nn.functional as F\n",
    "\n",
    "# Define transform to normalize the data\n",
    "transform = torchvision.transforms.Compose(\n",
    "    [ torchvision.transforms.ToTensor(),\n",
    "      torchvision.transforms.Normalize(mean=(0.5, 0.5, 0.5), std=(0.5, 0.5, 0.5))\n",
    "    ]\n",
    ")\n",
    "\n",
    "# Download and load training dataset\n",
    "trainset = torchvision.datasets.CIFAR10(root='data/', train=True, download=True, transform=transform)\n",
    "trainloader = torch.utils.data.DataLoader(trainset, batch_size=5, shuffle=True, num_workers=2)"
   ]
  },
  {
   "cell_type": "code",
   "execution_count": 14,
   "id": "51b9e913",
   "metadata": {
    "ExecuteTime": {
     "end_time": "2023-05-22T01:06:00.737200Z",
     "start_time": "2023-05-22T01:06:00.733798Z"
    },
    "scrolled": true
   },
   "outputs": [
    {
     "name": "stdout",
     "output_type": "stream",
     "text": [
      "size of trainset = 50000\n",
      "size of trainloader = 10000\n"
     ]
    }
   ],
   "source": [
    "print(f\"size of trainset = {len(trainset)}\")\n",
    "print(f\"size of trainloader = {len(trainloader)}\")\n"
   ]
  },
  {
   "cell_type": "code",
   "execution_count": 17,
   "id": "a187d8a1",
   "metadata": {
    "ExecuteTime": {
     "end_time": "2023-05-22T01:06:33.553390Z",
     "start_time": "2023-05-22T01:06:32.962639Z"
    }
   },
   "outputs": [
    {
     "name": "stdout",
     "output_type": "stream",
     "text": [
      "Files already downloaded and verified\n",
      "size of testset = 10000\n",
      "size of testloader = 5000\n"
     ]
    }
   ],
   "source": [
    "testset = torchvision.datasets.CIFAR10(root='data/', train=False, download=True, transform=transform)\n",
    "testloader = torch.utils.data.DataLoader(testset, batch_size=2, shuffle=True, num_workers=2)\n",
    "print(f\"size of testset = {len(testset)}\")\n",
    "print(f\"size of testloader = {len(testloader)}\")"
   ]
  },
  {
   "cell_type": "markdown",
   "id": "43c920a4",
   "metadata": {
    "ExecuteTime": {
     "end_time": "2023-05-21T03:37:57.591253Z",
     "start_time": "2023-05-21T03:37:57.588813Z"
    }
   },
   "source": [
    "### Plot the data samples\n",
    "Below we can see that we have loaded 10 images each of size `C:3, H:32, W:32` and their correponding sparse labels "
   ]
  },
  {
   "cell_type": "code",
   "execution_count": 18,
   "id": "a709bfa2",
   "metadata": {
    "ExecuteTime": {
     "end_time": "2023-05-22T01:06:50.646278Z",
     "start_time": "2023-05-22T01:06:38.231939Z"
    }
   },
   "outputs": [
    {
     "name": "stdout",
     "output_type": "stream",
     "text": [
      "train X shape: torch.Size([5, 3, 32, 32]) train Y: tensor([4, 7, 8, 2, 2])\n"
     ]
    }
   ],
   "source": [
    "first_train_batch = next(iter(trainloader))\n",
    "train_x = first_train_batch[0]\n",
    "train_y  = first_train_batch[1]\n",
    "print(f'train X shape: {train_x.shape} train Y: {train_y}')\n",
    "                         "
   ]
  },
  {
   "cell_type": "code",
   "execution_count": 34,
   "id": "d786126b",
   "metadata": {
    "ExecuteTime": {
     "end_time": "2023-05-22T01:11:39.659018Z",
     "start_time": "2023-05-22T01:11:39.408047Z"
    }
   },
   "outputs": [
    {
     "data": {
      "image/png": "[encoded data removed]",
      "text/plain": [
       "<Figure size 640x480 with 2 Axes>"
      ]
     },
     "metadata": {},
     "output_type": "display_data"
    }
   ],
   "source": [
    "import torch\n",
    "import seaborn as sns\n",
    "import matplotlib.pyplot as plt\n",
    "sns.set_style(\"darkgrid\", {\"axes.facecolor\": \".9\"})\n",
    "\n",
    "# Let's grayscale the image by average across the channel dimension\n",
    "image_tensor = train_x[1].mean(axis=0) \n",
    "# Squeeze the channel dimension\n",
    "image_2d = image_tensor.squeeze(0)\n",
    "\n",
    "# Plot using seaborn\n",
    "sns.heatmap(image_2d, cmap='gray')\n",
    "plt.show()\n"
   ]
  },
  {
   "cell_type": "markdown",
   "id": "d56cba0e",
   "metadata": {},
   "source": [
    "## Convnet Architecture "
   ]
  },
  {
   "cell_type": "markdown",
   "id": "9f8c30f3",
   "metadata": {},
   "source": [
    "<img src=\"conv2dShape.png\" width=\"400\" height=\"400\">"
   ]
  },
  {
   "cell_type": "code",
   "execution_count": 35,
   "id": "3305f3f6",
   "metadata": {
    "ExecuteTime": {
     "end_time": "2023-05-22T01:11:45.756878Z",
     "start_time": "2023-05-22T01:11:45.753422Z"
    }
   },
   "outputs": [],
   "source": [
    "# Define relevant variables for the ML task\n",
    "batch_size = 64\n",
    "num_classes = 10\n",
    "learning_rate = 0.001\n",
    "EPOCHS = 50"
   ]
  },
  {
   "cell_type": "code",
   "execution_count": 44,
   "id": "4e03e715",
   "metadata": {
    "ExecuteTime": {
     "end_time": "2023-05-22T01:24:10.879455Z",
     "start_time": "2023-05-22T01:24:10.856089Z"
    }
   },
   "outputs": [
    {
     "name": "stdout",
     "output_type": "stream",
     "text": [
      "----------------------------------------------------------------\n",
      "        Layer (type)               Output Shape         Param #\n",
      "================================================================\n",
      "            Conv2d-1            [-1, 6, 34, 34]             168\n",
      "       BatchNorm2d-2            [-1, 6, 34, 34]              12\n",
      "              ReLU-3            [-1, 6, 34, 34]               0\n",
      "         MaxPool2d-4            [-1, 6, 11, 11]               0\n",
      "            Conv2d-5             [-1, 16, 9, 9]             880\n",
      "       BatchNorm2d-6             [-1, 16, 9, 9]              32\n",
      "              ReLU-7             [-1, 16, 9, 9]               0\n",
      "         MaxPool2d-8             [-1, 16, 4, 4]               0\n",
      "            Linear-9                  [-1, 128]          32,896\n",
      "             ReLU-10                  [-1, 128]               0\n",
      "           Linear-11                   [-1, 64]           8,256\n",
      "             ReLU-12                   [-1, 64]               0\n",
      "           Linear-13                   [-1, 10]             650\n",
      "             ReLU-14                   [-1, 10]               0\n",
      "================================================================\n",
      "Total params: 42,894\n",
      "Trainable params: 42,894\n",
      "Non-trainable params: 0\n",
      "----------------------------------------------------------------\n",
      "Input size (MB): 0.12\n",
      "Forward/backward pass size (MB): 0.20\n",
      "Params size (MB): 0.16\n",
      "Estimated Total Size (MB): 0.48\n",
      "----------------------------------------------------------------\n",
      "None\n"
     ]
    }
   ],
   "source": [
    "import torch.nn as nn\n",
    "from torchsummary import summary\n",
    "\n",
    "class ConvNet(nn.Module):\n",
    "    def __init__(self, num_classes):\n",
    "        super().__init__()\n",
    "        \n",
    "        self.num_classes = num_classes\n",
    "        self.relu = nn.ReLU()\n",
    "        \n",
    "        # block 1\n",
    "        self.conv1 = nn.Conv2d(in_channels=3, out_channels=6, kernel_size=3, padding=2)\n",
    "        self.pool1 = nn.MaxPool2d(kernel_size=3)\n",
    "        self.batch_norm1 = nn.BatchNorm2d(num_features=6)\n",
    "        \n",
    "        # block 2\n",
    "        self.conv2 = nn.Conv2d(in_channels=6, out_channels=16, kernel_size=3)\n",
    "        self.pool2 = nn.MaxPool2d(kernel_size=2)\n",
    "        self.batch_norm2 = nn.BatchNorm2d(num_features=16)\n",
    "        \n",
    "        # Dense layers\n",
    "        self.dense1 = nn.Linear(in_features=256, out_features=128)\n",
    "        self.dense2 = nn.Linear(in_features=128, out_features=64)\n",
    "        self.dense3 = nn.Linear(in_features=64, out_features=10)\n",
    "        \n",
    "        \n",
    "    def forward(self, data, training=False):\n",
    "        input_x, input_y = data\n",
    "        \n",
    "        x = self.pool1(self.relu(self.batch_norm1(self.conv1(input_x))))\n",
    "        x = self.pool2(self.relu(self.batch_norm2(self.conv2(x))))\n",
    "        \n",
    "        x = x.view(x.size(0), -1)\n",
    "        x = self.relu(self.dense1(x))\n",
    "        x = self.relu(self.dense2(x))\n",
    "        x = self.relu(self.dense3(x))\n",
    "        \n",
    "        return x\n",
    "    \n",
    "    \n",
    "convnet = ConvNet(num_classes=10)\n",
    "print(summary(convnet, input_size=(10, 3, 32, 32)))"
   ]
  },
  {
   "cell_type": "code",
   "execution_count": 45,
   "id": "5c0a6495",
   "metadata": {
    "ExecuteTime": {
     "end_time": "2023-05-22T01:24:14.962427Z",
     "start_time": "2023-05-22T01:24:14.955695Z"
    }
   },
   "outputs": [],
   "source": [
    "logits = convnet(first_train_batch)"
   ]
  },
  {
   "cell_type": "markdown",
   "id": "0802f4bd",
   "metadata": {},
   "source": [
    "### Loss and Optimizer\n",
    "* The `CrossEntpropyLoss` in Pytorch expects un-normalized probs. Unfortunately it has no option like **Tensorflow** to set `from_logits=True / False`. Therefore make sure you **don't use** `nn.Softmax`\n",
    "* Additionally, there are more details about how to pass the the targets:\n",
    "    * **As indices**: This is generally preferred for optimized computation. Eg `Target = 8 (horse class)`\n",
    "    * **As probabiblities**: in case you want to use label smoothing. Eg: `Target = [0.2, 0.03, ...]`"
   ]
  },
  {
   "cell_type": "code",
   "execution_count": 46,
   "id": "c4bf3b8f",
   "metadata": {
    "ExecuteTime": {
     "end_time": "2023-05-22T01:24:17.490337Z",
     "start_time": "2023-05-22T01:24:17.485318Z"
    }
   },
   "outputs": [],
   "source": [
    "loss_func = nn.CrossEntropyLoss(\n",
    "    weight=None, \n",
    "    size_average=None,\n",
    "    ignore_index=- 100,\n",
    "    reduce=None, \n",
    "    reduction='mean',\n",
    "    label_smoothing=0.0\n",
    ")\n",
    "optimizer = torch.optim.Adam(\n",
    "    params=convnet.parameters(),\n",
    "    lr=0.001, \n",
    "    betas=(0.9, 0.999), \n",
    "    eps=1e-08, \n",
    "    weight_decay=0, \n",
    "    amsgrad=False,\n",
    "    foreach=None, \n",
    "    maximize=False, \n",
    "    capturable=False, \n",
    "    differentiable=False, \n",
    "    fused=None\n",
    ")"
   ]
  },
  {
   "cell_type": "markdown",
   "id": "b477f3cc",
   "metadata": {},
   "source": [
    "### Training Loop"
   ]
  },
  {
   "cell_type": "code",
   "execution_count": 49,
   "id": "4f228f7e",
   "metadata": {
    "ExecuteTime": {
     "end_time": "2023-05-22T04:08:35.277886Z",
     "start_time": "2023-05-22T01:30:18.014759Z"
    }
   },
   "outputs": [
    {
     "name": "stdout",
     "output_type": "stream",
     "text": [
      "Epoch [1/5], Loss: 1.5191, Accuracy: 46.18%\n",
      "Epoch [2/5], Loss: 2.0409, Accuracy: 46.74%\n",
      "Epoch [3/5], Loss: 1.5094, Accuracy: 47.32%\n",
      "Epoch [4/5], Loss: 2.1736, Accuracy: 47.58%\n",
      "Epoch [5/5], Loss: 1.4555, Accuracy: 47.96%\n",
      "Epoch [6/5], Loss: 0.9975, Accuracy: 48.35%\n",
      "Epoch [7/5], Loss: 1.1479, Accuracy: 48.51%\n",
      "Epoch [8/5], Loss: 1.8623, Accuracy: 48.69%\n",
      "Epoch [9/5], Loss: 0.8955, Accuracy: 48.94%\n",
      "Epoch [10/5], Loss: 1.7871, Accuracy: 49.14%\n",
      "Epoch [11/5], Loss: 1.5102, Accuracy: 49.43%\n",
      "Epoch [12/5], Loss: 1.5297, Accuracy: 49.49%\n",
      "Epoch [13/5], Loss: 1.6075, Accuracy: 49.79%\n",
      "Epoch [14/5], Loss: 0.9241, Accuracy: 49.97%\n",
      "Epoch [15/5], Loss: 0.6044, Accuracy: 50.05%\n",
      "Epoch [16/5], Loss: 2.0353, Accuracy: 50.08%\n",
      "Epoch [17/5], Loss: 1.3133, Accuracy: 50.41%\n",
      "Epoch [18/5], Loss: 0.7230, Accuracy: 50.69%\n",
      "Epoch [19/5], Loss: 0.9286, Accuracy: 50.56%\n",
      "Epoch [20/5], Loss: 0.5836, Accuracy: 50.72%\n"
     ]
    }
   ],
   "source": [
    "GRAD_ACC_ITER = 4\n",
    "\n",
    "for epoch in range(20):\n",
    "    running_loss = 0.0\n",
    "    correct_predictions = 0\n",
    "    \n",
    "    # run over mini-batches of size 10\n",
    "    for idx, (train_x, train_y) in enumerate(trainloader):\n",
    "        train_x = train_x.to(device)\n",
    "        train_y = train_y.to(device) \n",
    "        outputs = convnet(data=(train_x, train_y), training=True)\n",
    "        \n",
    "        _ , predicted = torch.max(outputs.data, 1)\n",
    "        correct_predictions += (predicted == train_y).sum().item()\n",
    "        \n",
    "        loss = loss_func(outputs, train_y)\n",
    "        loss.backward()\n",
    "        \n",
    "        # gradient accumulation to speed up the training with small mini-batchces. \n",
    "        if ((idx + 1) % GRAD_ACC_ITER == 0) or (idx + 1 == len(trainloader)):\n",
    "            optimizer.step()\n",
    "            optimizer.zero_grad()\n",
    "        \n",
    "        running_loss += loss.item()\n",
    "    \n",
    "    accuracy = 100 * correct_predictions / len(trainset)\n",
    "    \n",
    "    print('Epoch [{}/{}], Loss: {:.4f}, Accuracy: {:.2f}%'.format(epoch+1, EPOCHS, loss.item(), accuracy))\n",
    "    \n",
    "    writer.add_scalar('Loss/train', running_loss/idx+1, epoch)\n",
    "    writer.add_scalar('Accuracy/train', accuracy, epoch)\n"
   ]
  },
  {
   "cell_type": "code",
   "execution_count": 185,
   "id": "93a282e3",
   "metadata": {
    "ExecuteTime": {
     "end_time": "2023-05-21T21:34:12.152356Z",
     "start_time": "2023-05-21T21:34:12.148312Z"
    }
   },
   "outputs": [
    {
     "name": "stdout",
     "output_type": "stream",
     "text": [
      "conv1.weight None\n",
      "conv1.bias None\n",
      "conv2.weight None\n",
      "conv2.bias None\n",
      "dense1.weight None\n",
      "dense1.bias None\n",
      "dense2.weight None\n",
      "dense2.bias None\n",
      "dense3.weight None\n",
      "dense3.bias None\n"
     ]
    }
   ],
   "source": [
    "for tag, value in convnet.named_parameters():\n",
    "\n",
    "    if value.grad is not None:\n",
    "        print(value.grad)\n",
    "#         writer.add_histogram(tag + \"/grad\", value.grad.cpu(), step)"
   ]
  },
  {
   "cell_type": "markdown",
   "id": "4b8f9866",
   "metadata": {},
   "source": [
    "## Follow Up Deep Dives\n",
    "* Deep Dive into Pytorch's [Autograd](https://pytorch.org/docs/stable/autograd.html)"
   ]
  },
  {
   "cell_type": "markdown",
   "id": "adc2d223",
   "metadata": {
    "ExecuteTime": {
     "end_time": "2023-05-21T20:35:05.082526Z",
     "start_time": "2023-05-21T20:35:05.070701Z"
    },
    "cell_style": "split"
   },
   "source": [
    "<span style='background : yellow' > Background color is yellow \n",
    "\n",
    "```python\n",
    "model = ... # your model\n",
    "optimizer = tf.keras.optimizers.SGD() # your optimizer\n",
    "loss_fn = tf.keras.losses.SparseCategoricalCrossentropy() # your loss function\n",
    "dataset = ... # your dataset\n",
    "accumulation_steps = 4\n",
    "\n",
    "@tf.function\n",
    "def train_step(inputs, labels, model, optimizer, loss_fn, grad_list):\n",
    "    with tf.GradientTape() as tape:\n",
    "        predictions = model(inputs, training=True)\n",
    "        loss = loss_fn(labels, predictions)\n",
    "    gradients = tape.gradient(loss, model.trainable_variables)\n",
    "    \n",
    "    # Accumulate gradients\n",
    "    if grad_list is None:\n",
    "        grad_list = gradients\n",
    "    else:\n",
    "        for i in range(len(gradients)):\n",
    "            grad_list[i] += gradients[i]\n",
    "    \n",
    "    return loss, grad_list\n",
    "\n",
    "for epoch in range(NUM_EPOCHS):\n",
    "    grad_list = None\n",
    "    running_loss = 0.0\n",
    "    for i, (inputs, labels) in enumerate(dataset):\n",
    "        loss, grad_list = train_step(inputs, labels, model, optimizer, loss_fn, grad_list)\n",
    "\n",
    "        # Only apply gradients and update model parameters every accumulation_steps\n",
    "        if (i+1) % accumulation_steps == 0:\n",
    "            optimizer.apply_gradients(zip(grad_list, model.trainable_variables))\n",
    "            grad_list = None\n",
    "\n",
    "    print(f\"Epoch: {epoch}, Loss: {running_loss/len(dataset)}\")\n",
    "```\n",
    "</span>"
   ]
  },
  {
   "cell_type": "markdown",
   "id": "0c20aa28",
   "metadata": {
    "cell_style": "split"
   },
   "source": [
    "```python\n",
    "model = ... # your model\n",
    "optimizer = ... # your optimizer\n",
    "criterion = ... # your loss function\n",
    "dataloader = ... # your dataloader\n",
    "accumulation_steps = 4\n",
    "\n",
    "model.train()\n",
    "for epoch in range(NUM_EPOCHS):\n",
    "    running_loss = 0.0\n",
    "    for i, (inputs, labels) in enumerate(dataloader):\n",
    "        outputs = model(inputs)\n",
    "        loss = criterion(outputs, labels)\n",
    "\n",
    "        # Instead of calling loss.backward(), we call loss.backward() / accumulation_steps\n",
    "        loss.backward() \n",
    "\n",
    "        # Only update model parameters every accumulation_steps\n",
    "        if (i+1) % accumulation_steps == 0:\n",
    "            optimizer.step()\n",
    "            optimizer.zero_grad()\n",
    "\n",
    "    print(f\"Epoch: {epoch}, Loss: {running_loss/len(dataloader)}\")\n",
    "```"
   ]
  },
  {
   "cell_type": "markdown",
   "id": "f651a188",
   "metadata": {},
   "source": [
    "### Batch Normalization Deep Dive"
   ]
  },
  {
   "cell_type": "markdown",
   "id": "55e0e781",
   "metadata": {},
   "source": [
    "* When BatchNorm is applied in CNNs, it is applied separately to each of the channels (C). This means the normalization is done on the `(N, H, W)` slices across each channel. For example, if we have a 3-channel RGB image, the normalization is done separately for the Red, Green, and Blue channels.\n",
    "\n",
    "* That's why it's often referred to as \"Spatial Batch Normalization\". It's because the normalization is applied over the spatial dimensions (H, W) of the image, for each feature channel separately.\n",
    "\n",
    "* As an example, suppose you have a mini-batch of `100 color images`, each of `32x32` pixels `(so, N=100, C=3, H=W=32)`. You compute the mean and variance for normalization over the `100x32x32` values in each color channel independently. These normalized values then get scaled and shifted using parameters that the network learns."
   ]
  },
  {
   "cell_type": "code",
   "execution_count": 1,
   "id": "992d920c",
   "metadata": {
    "ExecuteTime": {
     "end_time": "2023-05-22T00:57:24.039677Z",
     "start_time": "2023-05-22T00:57:24.022076Z"
    }
   },
   "outputs": [],
   "source": [
    "import numpy as np\n",
    "\n",
    "# Assume input images is a 4D array with shape (N, C, H, W)\n",
    "# Initialize with random values\n",
    "N, C, H, W = 100, 3, 32, 32\n",
    "images = np.random.randn(N, C, H, W)\n",
    "\n",
    "def spatial_batchnorm(images):\n",
    "    N, C, H, W = images.shape\n",
    "\n",
    "    # Step 1: Reshape the images in (N*H*W, C) from (N, C, H, W)\n",
    "    # We want to normalize over the mini-batch for each channel\n",
    "    temp = images.transpose(1, 0, 2, 3).reshape(C, -1)\n",
    "\n",
    "    # Step 2: Compute mean and variance along axis 0\n",
    "    mu = temp.mean(axis=1)\n",
    "    var = temp.var(axis=1)\n",
    "\n",
    "    # Step 3: Normalize\n",
    "    temp_normalized = (temp - mu[:, None]) / np.sqrt(var[:, None] + 1e-7)\n",
    "\n",
    "    # Step 4: Reshape it back to original shape\n",
    "    images_normalized = temp_normalized.reshape(C, N, H, W).transpose(1, 0, 2, 3)\n",
    "\n",
    "    # Step 5: Scale and shift (if required, not done here)\n",
    "    # For real use cases, we learn the scale (gamma) and shift (beta) parameters during training\n",
    "    # images_normalized = gamma * images_normalized + beta\n",
    "\n",
    "    return images_normalized\n"
   ]
  },
  {
   "cell_type": "code",
   "execution_count": 6,
   "id": "53cbf4b6",
   "metadata": {
    "ExecuteTime": {
     "end_time": "2023-05-22T00:59:33.790259Z",
     "start_time": "2023-05-22T00:59:29.527324Z"
    }
   },
   "outputs": [
    {
     "name": "stderr",
     "output_type": "stream",
     "text": [
      "/Users/sarora/opt/anaconda3/envs/cyml38/lib/python3.8/site-packages/seaborn/distributions.py:2619: FutureWarning: `distplot` is a deprecated function and will be removed in a future version. Please adapt your code to use either `displot` (a figure-level function with similar flexibility) or `histplot` (an axes-level function for histograms).\n",
      "  warnings.warn(msg, FutureWarning)\n",
      "/Users/sarora/opt/anaconda3/envs/cyml38/lib/python3.8/site-packages/seaborn/distributions.py:2619: FutureWarning: `distplot` is a deprecated function and will be removed in a future version. Please adapt your code to use either `displot` (a figure-level function with similar flexibility) or `histplot` (an axes-level function for histograms).\n",
      "  warnings.warn(msg, FutureWarning)\n"
     ]
    },
    {
     "data": {
      "image/png": "[encoded data removed]",
      "text/plain": [
       "<Figure size 1200x600 with 2 Axes>"
      ]
     },
     "metadata": {},
     "output_type": "display_data"
    }
   ],
   "source": [
    "import matplotlib.pyplot as plt\n",
    "import seaborn as sns\n",
    "\n",
    "images = np.array([np.full((1, 4, 4), i) for i in range(10)])\n",
    "\n",
    "normalized_images = spatial_batchnorm(images)\n",
    "\n",
    "fig, axes = plt.subplots(1, 2, figsize=(12, 6))\n",
    "\n",
    "sns.distplot(images.flatten(), ax=axes[0], color='blue')\n",
    "axes[0].set_title('Before Normalization')\n",
    "\n",
    "sns.distplot(normalized_images.flatten(), ax=axes[1], color='green')\n",
    "axes[1].set_title('After Normalization')\n",
    "\n",
    "plt.tight_layout()\n",
    "plt.show()\n"
   ]
  },
  {
   "cell_type": "code",
   "execution_count": null,
   "id": "eb5f9de7",
   "metadata": {},
   "outputs": [],
   "source": []
  }
 ],
 "metadata": {
  "hide_input": false,
  "kernelspec": {
   "display_name": "Python 3 (ipykernel)",
   "language": "python",
   "name": "python3"
  },
  "language_info": {
   "codemirror_mode": {
    "name": "ipython",
    "version": 3
   },
   "file_extension": ".py",
   "mimetype": "text/x-python",
   "name": "python",
   "nbconvert_exporter": "python",
   "pygments_lexer": "ipython3",
   "version": "3.8.13"
  },
  "toc": {
   "base_numbering": 1,
   "nav_menu": {},
   "number_sections": true,
   "sideBar": true,
   "skip_h1_title": false,
   "title_cell": "Table of Contents",
   "title_sidebar": "Contents",
   "toc_cell": false,
   "toc_position": {
    "height": "calc(100% - 180px)",
    "left": "10px",
    "top": "150px",
    "width": "269.176px"
   },
   "toc_section_display": true,
   "toc_window_display": true
  },
  "varInspector": {
   "cols": {
    "lenName": 16,
    "lenType": 16,
    "lenVar": 40
   },
   "kernels_config": {
    "python": {
     "delete_cmd_postfix": "",
     "delete_cmd_prefix": "del ",
     "library": "var_list.py",
     "varRefreshCmd": "print(var_dic_list())"
    },
    "r": {
     "delete_cmd_postfix": ") ",
     "delete_cmd_prefix": "rm(",
     "library": "var_list.r",
     "varRefreshCmd": "cat(var_dic_list()) "
    }
   },
   "types_to_exclude": [
    "module",
    "function",
    "builtin_function_or_method",
    "instance",
    "_Feature"
   ],
   "window_display": false
  }
 },
 "nbformat": 4,
 "nbformat_minor": 5
}
